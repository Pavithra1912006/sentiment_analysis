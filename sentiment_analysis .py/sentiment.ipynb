{
 "cells": [
  {
   "cell_type": "code",
   "execution_count": 65,
   "id": "62b6a761",
   "metadata": {},
   "outputs": [],
   "source": [
    "import pandas as pd\n",
    "import numpy as np\n",
    "import matplotlib.pyplot as plt"
   ]
  },
  {
   "cell_type": "code",
   "execution_count": 66,
   "id": "c887ebe1",
   "metadata": {},
   "outputs": [
    {
     "name": "stderr",
     "output_type": "stream",
     "text": [
      "[nltk_data] Downloading package punkt to\n",
      "[nltk_data]     C:\\Users\\pavit\\AppData\\Roaming\\nltk_data...\n",
      "[nltk_data]   Package punkt is already up-to-date!\n",
      "[nltk_data] Downloading package stopwords to\n",
      "[nltk_data]     C:\\Users\\pavit\\AppData\\Roaming\\nltk_data...\n",
      "[nltk_data]   Package stopwords is already up-to-date!\n",
      "[nltk_data] Downloading package wordnet to\n",
      "[nltk_data]     C:\\Users\\pavit\\AppData\\Roaming\\nltk_data...\n",
      "[nltk_data]   Package wordnet is already up-to-date!\n"
     ]
    }
   ],
   "source": [
    "import string\n",
    "import re\n",
    "import nltk\n",
    "import nltk.corpus\n",
    "nltk.download(\"punkt\")\n",
    "nltk.download(\"stopwords\")\n",
    "nltk.download(\"wordnet\")\n",
    "from nltk.stem import WordNetLemmatizer"
   ]
  },
  {
   "cell_type": "code",
   "execution_count": 67,
   "id": "b2ff8623",
   "metadata": {},
   "outputs": [],
   "source": [
    "# Text Polarity\n",
    "from textblob import TextBlob\n",
    "\n",
    "# Text Vectorizer\n",
    "from sklearn.feature_extraction.text import CountVectorizer\n",
    "\n",
    "# Word Cloud\n",
    "from wordcloud import WordCloud"
   ]
  },
  {
   "cell_type": "code",
   "execution_count": 68,
   "id": "b3e1c62b",
   "metadata": {},
   "outputs": [],
   "source": [
    "\n",
    "# Label Encoding\n",
    "from sklearn.preprocessing import LabelEncoder\n",
    "\n",
    "# TF-IDF Vectorizer\n",
    "from sklearn.feature_extraction.text import TfidfVectorizer\n",
    "\n",
    "# Resampling\n",
    "from imblearn.over_sampling import SMOTE\n",
    "from collections import Counter\n",
    "\n",
    "# Splitting Dataset\n",
    "from sklearn.model_selection import train_test_split"
   ]
  },
  {
   "cell_type": "code",
   "execution_count": 69,
   "id": "c2319310",
   "metadata": {},
   "outputs": [],
   "source": [
    "# Model Building\n",
    "from sklearn.svm import SVC\n",
    "from sklearn.tree import DecisionTreeClassifier\n",
    "from sklearn.linear_model import LogisticRegression\n",
    "from sklearn.ensemble import RandomForestClassifier\n",
    "from sklearn.naive_bayes import BernoulliNB\n",
    "from sklearn.neighbors import KNeighborsClassifier\n",
    "from sklearn.model_selection import cross_val_score\n",
    "\n",
    "# Hyperparameter Tuning\n",
    "from sklearn.model_selection import GridSearchCV\n",
    "\n",
    "# Model Metrics\n",
    "from sklearn.metrics import confusion_matrix, accuracy_score, classification_report"
   ]
  },
  {
   "cell_type": "code",
   "execution_count": 70,
   "id": "f6f86121",
   "metadata": {},
   "outputs": [],
   "source": [
    "dataset = pd.read_csv(\"Instruments_Reviews.csv\")"
   ]
  },
  {
   "cell_type": "code",
   "execution_count": 71,
   "id": "a560a596",
   "metadata": {},
   "outputs": [
    {
     "data": {
      "text/plain": [
       "(10261, 9)"
      ]
     },
     "execution_count": 71,
     "metadata": {},
     "output_type": "execute_result"
    }
   ],
   "source": [
    "\n",
    "dataset.shape"
   ]
  },
  {
   "cell_type": "code",
   "execution_count": 72,
   "id": "853504f0",
   "metadata": {},
   "outputs": [
    {
     "data": {
      "text/plain": [
       "reviewerID         0\n",
       "asin               0\n",
       "reviewerName      27\n",
       "helpful            0\n",
       "reviewText         7\n",
       "overall            0\n",
       "summary            0\n",
       "unixReviewTime     0\n",
       "reviewTime         0\n",
       "dtype: int64"
      ]
     },
     "execution_count": 72,
     "metadata": {},
     "output_type": "execute_result"
    }
   ],
   "source": [
    "\n",
    "dataset.isnull().sum()"
   ]
  },
  {
   "cell_type": "code",
   "execution_count": 73,
   "id": "91131f35",
   "metadata": {},
   "outputs": [],
   "source": [
    "\n",
    "\n",
    "dataset['reviewText'] = dataset['reviewText'].fillna(value=\"\")\n"
   ]
  },
  {
   "cell_type": "code",
   "execution_count": 74,
   "id": "7ec83da2",
   "metadata": {},
   "outputs": [],
   "source": [
    "\n",
    "dataset[\"reviews\"] = dataset[\"reviewText\"] + \" \" + dataset[\"summary\"]\n",
    "dataset.drop(columns = [\"reviewText\", \"summary\"], axis = 1, inplace = True)\n",
    "     "
   ]
  },
  {
   "cell_type": "code",
   "execution_count": 75,
   "id": "909c5f3c",
   "metadata": {},
   "outputs": [
    {
     "data": {
      "text/html": [
       "<div>\n",
       "<style scoped>\n",
       "    .dataframe tbody tr th:only-of-type {\n",
       "        vertical-align: middle;\n",
       "    }\n",
       "\n",
       "    .dataframe tbody tr th {\n",
       "        vertical-align: top;\n",
       "    }\n",
       "\n",
       "    .dataframe thead th {\n",
       "        text-align: right;\n",
       "    }\n",
       "</style>\n",
       "<table border=\"1\" class=\"dataframe\">\n",
       "  <thead>\n",
       "    <tr style=\"text-align: right;\">\n",
       "      <th></th>\n",
       "      <th>reviewerID</th>\n",
       "      <th>asin</th>\n",
       "      <th>reviewerName</th>\n",
       "      <th>helpful</th>\n",
       "      <th>overall</th>\n",
       "      <th>unixReviewTime</th>\n",
       "      <th>reviewTime</th>\n",
       "      <th>reviews</th>\n",
       "    </tr>\n",
       "  </thead>\n",
       "  <tbody>\n",
       "    <tr>\n",
       "      <th>count</th>\n",
       "      <td>10261</td>\n",
       "      <td>10261</td>\n",
       "      <td>10234</td>\n",
       "      <td>10261</td>\n",
       "      <td>10261.000000</td>\n",
       "      <td>1.026100e+04</td>\n",
       "      <td>10261</td>\n",
       "      <td>10261</td>\n",
       "    </tr>\n",
       "    <tr>\n",
       "      <th>unique</th>\n",
       "      <td>1429</td>\n",
       "      <td>900</td>\n",
       "      <td>1397</td>\n",
       "      <td>269</td>\n",
       "      <td>NaN</td>\n",
       "      <td>NaN</td>\n",
       "      <td>1570</td>\n",
       "      <td>10261</td>\n",
       "    </tr>\n",
       "    <tr>\n",
       "      <th>top</th>\n",
       "      <td>ADH0O8UVJOT10</td>\n",
       "      <td>B003VWJ2K8</td>\n",
       "      <td>Amazon Customer</td>\n",
       "      <td>[0, 0]</td>\n",
       "      <td>NaN</td>\n",
       "      <td>NaN</td>\n",
       "      <td>01 22, 2013</td>\n",
       "      <td>These strings are really quite good, but I wou...</td>\n",
       "    </tr>\n",
       "    <tr>\n",
       "      <th>freq</th>\n",
       "      <td>42</td>\n",
       "      <td>163</td>\n",
       "      <td>66</td>\n",
       "      <td>6796</td>\n",
       "      <td>NaN</td>\n",
       "      <td>NaN</td>\n",
       "      <td>40</td>\n",
       "      <td>1</td>\n",
       "    </tr>\n",
       "    <tr>\n",
       "      <th>mean</th>\n",
       "      <td>NaN</td>\n",
       "      <td>NaN</td>\n",
       "      <td>NaN</td>\n",
       "      <td>NaN</td>\n",
       "      <td>4.488744</td>\n",
       "      <td>1.360606e+09</td>\n",
       "      <td>NaN</td>\n",
       "      <td>NaN</td>\n",
       "    </tr>\n",
       "    <tr>\n",
       "      <th>std</th>\n",
       "      <td>NaN</td>\n",
       "      <td>NaN</td>\n",
       "      <td>NaN</td>\n",
       "      <td>NaN</td>\n",
       "      <td>0.894642</td>\n",
       "      <td>3.779735e+07</td>\n",
       "      <td>NaN</td>\n",
       "      <td>NaN</td>\n",
       "    </tr>\n",
       "    <tr>\n",
       "      <th>min</th>\n",
       "      <td>NaN</td>\n",
       "      <td>NaN</td>\n",
       "      <td>NaN</td>\n",
       "      <td>NaN</td>\n",
       "      <td>1.000000</td>\n",
       "      <td>1.095466e+09</td>\n",
       "      <td>NaN</td>\n",
       "      <td>NaN</td>\n",
       "    </tr>\n",
       "    <tr>\n",
       "      <th>25%</th>\n",
       "      <td>NaN</td>\n",
       "      <td>NaN</td>\n",
       "      <td>NaN</td>\n",
       "      <td>NaN</td>\n",
       "      <td>4.000000</td>\n",
       "      <td>1.343434e+09</td>\n",
       "      <td>NaN</td>\n",
       "      <td>NaN</td>\n",
       "    </tr>\n",
       "    <tr>\n",
       "      <th>50%</th>\n",
       "      <td>NaN</td>\n",
       "      <td>NaN</td>\n",
       "      <td>NaN</td>\n",
       "      <td>NaN</td>\n",
       "      <td>5.000000</td>\n",
       "      <td>1.368490e+09</td>\n",
       "      <td>NaN</td>\n",
       "      <td>NaN</td>\n",
       "    </tr>\n",
       "    <tr>\n",
       "      <th>75%</th>\n",
       "      <td>NaN</td>\n",
       "      <td>NaN</td>\n",
       "      <td>NaN</td>\n",
       "      <td>NaN</td>\n",
       "      <td>5.000000</td>\n",
       "      <td>1.388966e+09</td>\n",
       "      <td>NaN</td>\n",
       "      <td>NaN</td>\n",
       "    </tr>\n",
       "    <tr>\n",
       "      <th>max</th>\n",
       "      <td>NaN</td>\n",
       "      <td>NaN</td>\n",
       "      <td>NaN</td>\n",
       "      <td>NaN</td>\n",
       "      <td>5.000000</td>\n",
       "      <td>1.405987e+09</td>\n",
       "      <td>NaN</td>\n",
       "      <td>NaN</td>\n",
       "    </tr>\n",
       "  </tbody>\n",
       "</table>\n",
       "</div>"
      ],
      "text/plain": [
       "           reviewerID        asin     reviewerName helpful       overall  \\\n",
       "count           10261       10261            10234   10261  10261.000000   \n",
       "unique           1429         900             1397     269           NaN   \n",
       "top     ADH0O8UVJOT10  B003VWJ2K8  Amazon Customer  [0, 0]           NaN   \n",
       "freq               42         163               66    6796           NaN   \n",
       "mean              NaN         NaN              NaN     NaN      4.488744   \n",
       "std               NaN         NaN              NaN     NaN      0.894642   \n",
       "min               NaN         NaN              NaN     NaN      1.000000   \n",
       "25%               NaN         NaN              NaN     NaN      4.000000   \n",
       "50%               NaN         NaN              NaN     NaN      5.000000   \n",
       "75%               NaN         NaN              NaN     NaN      5.000000   \n",
       "max               NaN         NaN              NaN     NaN      5.000000   \n",
       "\n",
       "        unixReviewTime   reviewTime  \\\n",
       "count     1.026100e+04        10261   \n",
       "unique             NaN         1570   \n",
       "top                NaN  01 22, 2013   \n",
       "freq               NaN           40   \n",
       "mean      1.360606e+09          NaN   \n",
       "std       3.779735e+07          NaN   \n",
       "min       1.095466e+09          NaN   \n",
       "25%       1.343434e+09          NaN   \n",
       "50%       1.368490e+09          NaN   \n",
       "75%       1.388966e+09          NaN   \n",
       "max       1.405987e+09          NaN   \n",
       "\n",
       "                                                  reviews  \n",
       "count                                               10261  \n",
       "unique                                              10261  \n",
       "top     These strings are really quite good, but I wou...  \n",
       "freq                                                    1  \n",
       "mean                                                  NaN  \n",
       "std                                                   NaN  \n",
       "min                                                   NaN  \n",
       "25%                                                   NaN  \n",
       "50%                                                   NaN  \n",
       "75%                                                   NaN  \n",
       "max                                                   NaN  "
      ]
     },
     "execution_count": 75,
     "metadata": {},
     "output_type": "execute_result"
    }
   ],
   "source": [
    "\n",
    "dataset.describe(include = \"all\")\n",
    "     \n"
   ]
  },
  {
   "cell_type": "code",
   "execution_count": 76,
   "id": "d91522df",
   "metadata": {},
   "outputs": [
    {
     "data": {
      "image/png": "[encoded data removed]",
      "text/plain": [
       "<Figure size 800x800 with 1 Axes>"
      ]
     },
     "metadata": {},
     "output_type": "display_data"
    }
   ],
   "source": [
    "dataset.overall.value_counts().plot(kind = \"pie\", legend = False, autopct = \"%1.2f%%\", fontsize = 10, figsize=(8,8))\n",
    "plt.title(\"Percentages of Ratings Given from The Customers\", loc = \"center\")\n",
    "plt.show()\n"
   ]
  },
  {
   "cell_type": "code",
   "execution_count": 77,
   "id": "aef37a54",
   "metadata": {},
   "outputs": [],
   "source": [
    "\n",
    "\n",
    "def Labelling(Rows):\n",
    "  if(Rows[\"overall\"] > 3.0):\n",
    "    Label = \"Positive\"\n",
    "  elif(Rows[\"overall\"] < 3.0):\n",
    "    Label = \"Negative\"\n",
    "  else:\n",
    "    Label = \"Neutral\"\n",
    "  return Label"
   ]
  },
  {
   "cell_type": "code",
   "execution_count": 78,
   "id": "d2f1aa0b",
   "metadata": {},
   "outputs": [],
   "source": [
    "\n",
    "dataset[\"sentiment\"] = dataset.apply(Labelling, axis = 1)\n",
    "     "
   ]
  },
  {
   "cell_type": "code",
   "execution_count": 79,
   "id": "dca85657",
   "metadata": {},
   "outputs": [
    {
     "data": {
      "image/png": "[encoded data removed]",
      "text/plain": [
       "<Figure size 640x480 with 1 Axes>"
      ]
     },
     "metadata": {},
     "output_type": "display_data"
    }
   ],
   "source": [
    "\n",
    "\n",
    "dataset[\"sentiment\"].value_counts().plot(kind = \"bar\", color = \"blue\")\n",
    "plt.title(\"Amount of Each Sentiments Based On Rating Given\", loc = \"center\", fontsize = 15, color = \"red\", pad = 25)\n",
    "plt.xlabel(\"Sentiments\", color = \"green\", fontsize = 10, labelpad = 15)\n",
    "plt.xticks(rotation = 0)\n",
    "plt.ylabel(\"Amount of Sentiments\", color = \"green\", fontsize = 10, labelpad = 15)\n",
    "plt.show()"
   ]
  },
  {
   "cell_type": "code",
   "execution_count": 80,
   "id": "80de4d73",
   "metadata": {},
   "outputs": [],
   "source": [
    "import re\n",
    "import string\n",
    "\n",
    "def Text_Cleaning(Text):\n",
    "    # Lowercase the text\n",
    "    Text = Text.lower()\n",
    "\n",
    "    # Cleaning punctuations in the text\n",
    "    punc = str.maketrans(string.punctuation, ' '*len(string.punctuation))\n",
    "    Text = Text.translate(punc)\n",
    "\n",
    "    # Removing numbers in the text\n",
    "    Text = re.sub(r'\\d+', '', Text)\n",
    "\n",
    "    # Remove possible links\n",
    "    Text = re.sub(r'https?://\\S+|www\\.\\S+', '', Text)  # <- Add r before the string!\n",
    "\n",
    "    # Deleting newlines\n",
    "    Text = re.sub(r'\\n', '', Text)  # <- Also use r here\n",
    "\n",
    "    return Text\n",
    "\n"
   ]
  },
  {
   "cell_type": "code",
   "execution_count": 81,
   "id": "f200e0d3",
   "metadata": {},
   "outputs": [],
   "source": [
    "\n",
    "\n",
    "# Stopwords\n",
    "Stopwords = set(nltk.corpus.stopwords.words(\"english\")) - set([\"not\"])\n",
    "\n",
    "def Text_Processing(Text):\n",
    "  Processed_Text = list()\n",
    "  Lemmatizer = WordNetLemmatizer()\n",
    "\n",
    "  # Tokens of Words\n",
    "  Tokens = nltk.word_tokenize(Text)\n",
    "\n",
    "  # Removing Stopwords and Lemmatizing Words\n",
    "  # To reduce noises in our dataset, also to keep it simple and still \n",
    "  # powerful, we will only omit the word `not` from the list of stopwords\n",
    "\n",
    "  for word in Tokens:\n",
    "    if word not in Stopwords:\n",
    "      Processed_Text.append(Lemmatizer.lemmatize(word))\n",
    "\n",
    "  return(\" \".join(Processed_Text))"
   ]
  },
  {
   "cell_type": "code",
   "execution_count": 88,
   "id": "74171456",
   "metadata": {},
   "outputs": [],
   "source": [
    "import pandas as pd\n",
    "\n",
    "# Load the CSV file into a pandas DataFrame\n",
    "dataset = pd.read_csv('C:/Users/pavit/Downloads/reviews.csv')\n"
   ]
  },
  {
   "cell_type": "code",
   "execution_count": 87,
   "id": "f32cee87",
   "metadata": {},
   "outputs": [
    {
     "name": "stderr",
     "output_type": "stream",
     "text": [
      "[nltk_data] Downloading package stopwords to\n",
      "[nltk_data]     C:\\Users\\pavit\\AppData\\Roaming\\nltk_data...\n",
      "[nltk_data]   Package stopwords is already up-to-date!\n"
     ]
    },
    {
     "data": {
      "text/plain": [
       "True"
      ]
     },
     "execution_count": 87,
     "metadata": {},
     "output_type": "execute_result"
    }
   ],
   "source": [
    "import nltk\n",
    "nltk.download('stopwords')"
   ]
  },
  {
   "cell_type": "code",
   "execution_count": 89,
   "id": "70aa201c",
   "metadata": {},
   "outputs": [
    {
     "name": "stderr",
     "output_type": "stream",
     "text": [
      "[nltk_data] Downloading package punkt to\n",
      "[nltk_data]     C:\\Users\\pavit\\AppData\\Roaming\\nltk_data...\n",
      "[nltk_data]   Package punkt is already up-to-date!\n",
      "[nltk_data] Downloading package stopwords to\n",
      "[nltk_data]     C:\\Users\\pavit\\AppData\\Roaming\\nltk_data...\n",
      "[nltk_data]   Package stopwords is already up-to-date!\n",
      "[nltk_data] Downloading package wordnet to\n",
      "[nltk_data]     C:\\Users\\pavit\\AppData\\Roaming\\nltk_data...\n",
      "[nltk_data]   Package wordnet is already up-to-date!\n",
      "[nltk_data] Downloading package omw-1.4 to\n",
      "[nltk_data]     C:\\Users\\pavit\\AppData\\Roaming\\nltk_data...\n",
      "[nltk_data]   Package omw-1.4 is already up-to-date!\n"
     ]
    },
    {
     "data": {
      "text/plain": [
       "True"
      ]
     },
     "execution_count": 89,
     "metadata": {},
     "output_type": "execute_result"
    }
   ],
   "source": [
    "import nltk\n",
    "nltk.download('punkt')\n",
    "nltk.download('stopwords')\n",
    "nltk.download('wordnet')\n",
    "nltk.download('omw-1.4')"
   ]
  },
  {
   "cell_type": "code",
   "execution_count": null,
   "id": "7630577a",
   "metadata": {},
   "outputs": [],
   "source": []
  },
  {
   "cell_type": "code",
   "execution_count": null,
   "id": "75b5c4e6",
   "metadata": {},
   "outputs": [],
   "source": []
  }
 ],
 "metadata": {
  "kernelspec": {
   "display_name": "Python 3",
   "language": "python",
   "name": "python3"
  },
  "language_info": {
   "codemirror_mode": {
    "name": "ipython",
    "version": 3
   },
   "file_extension": ".py",
   "mimetype": "text/x-python",
   "name": "python",
   "nbconvert_exporter": "python",
   "pygments_lexer": "ipython3",
   "version": "3.12.0"
  }
 },
 "nbformat": 4,
 "nbformat_minor": 5
}
